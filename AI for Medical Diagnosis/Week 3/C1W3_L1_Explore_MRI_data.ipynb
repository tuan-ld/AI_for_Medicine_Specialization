{
  "nbformat": 4,
  "nbformat_minor": 0,
  "metadata": {
    "kernelspec": {
      "display_name": "Python 3",
      "language": "python",
      "name": "python3"
    },
    "language_info": {
      "codemirror_mode": {
        "name": "ipython",
        "version": 3
      },
      "file_extension": ".py",
      "mimetype": "text/x-python",
      "name": "python",
      "nbconvert_exporter": "python",
      "pygments_lexer": "ipython3",
      "version": "3.6.3"
    },
    "colab": {
      "name": "Explore MRI data.ipynb",
      "provenance": []
    },
    "widgets": {
      "application/vnd.jupyter.widget-state+json": {
        "d02b6bba1a1f4a71b3507d598f3d136c": {
          "model_module": "@jupyter-widgets/controls",
          "model_name": "VBoxModel",
          "model_module_version": "1.5.0",
          "state": {
            "_dom_classes": [
              "widget-interact"
            ],
            "_model_module": "@jupyter-widgets/controls",
            "_model_module_version": "1.5.0",
            "_model_name": "VBoxModel",
            "_view_count": null,
            "_view_module": "@jupyter-widgets/controls",
            "_view_module_version": "1.5.0",
            "_view_name": "VBoxView",
            "box_style": "",
            "children": [
              "IPY_MODEL_32499999e4894dbf97e9afdaf67e83a7",
              "IPY_MODEL_1f8af9a50da44e3c95951cd3403513ab",
              "IPY_MODEL_653c5aaf60b84494ac866658ab1c2ee8",
              "IPY_MODEL_50cea2d34fcf4a43b311e17a6a6e34f2"
            ],
            "layout": "IPY_MODEL_eff3b8648284498fac7ea30f93dfe84e"
          }
        },
        "32499999e4894dbf97e9afdaf67e83a7": {
          "model_module": "@jupyter-widgets/controls",
          "model_name": "IntSliderModel",
          "model_module_version": "1.5.0",
          "state": {
            "_dom_classes": [],
            "_model_module": "@jupyter-widgets/controls",
            "_model_module_version": "1.5.0",
            "_model_name": "IntSliderModel",
            "_view_count": null,
            "_view_module": "@jupyter-widgets/controls",
            "_view_module_version": "1.5.0",
            "_view_name": "IntSliderView",
            "continuous_update": true,
            "description": "layer",
            "description_tooltip": null,
            "disabled": false,
            "layout": "IPY_MODEL_dc5e2ef1060e46dda8bd4dbff0bbeeec",
            "max": 154,
            "min": 0,
            "orientation": "horizontal",
            "readout": true,
            "readout_format": "d",
            "step": 1,
            "style": "IPY_MODEL_dd23d8456cee49309657a90accf38ddd",
            "value": 82
          }
        },
        "1f8af9a50da44e3c95951cd3403513ab": {
          "model_module": "@jupyter-widgets/controls",
          "model_name": "DropdownModel",
          "model_module_version": "1.5.0",
          "state": {
            "_dom_classes": [],
            "_model_module": "@jupyter-widgets/controls",
            "_model_module_version": "1.5.0",
            "_model_name": "DropdownModel",
            "_options_labels": [
              "X (height)",
              "Y (width)",
              "Z (depth)"
            ],
            "_view_count": null,
            "_view_module": "@jupyter-widgets/controls",
            "_view_module_version": "1.5.0",
            "_view_name": "DropdownView",
            "description": "axis",
            "description_tooltip": null,
            "disabled": false,
            "index": 2,
            "layout": "IPY_MODEL_b1ad70c56238470d883e88b06c9f8181",
            "style": "IPY_MODEL_8451d8eef1a9404382ce3fc5ff76f64a"
          }
        },
        "653c5aaf60b84494ac866658ab1c2ee8": {
          "model_module": "@jupyter-widgets/controls",
          "model_name": "IntSliderModel",
          "model_module_version": "1.5.0",
          "state": {
            "_dom_classes": [],
            "_model_module": "@jupyter-widgets/controls",
            "_model_module_version": "1.5.0",
            "_model_name": "IntSliderModel",
            "_view_count": null,
            "_view_module": "@jupyter-widgets/controls",
            "_view_module_version": "1.5.0",
            "_view_name": "IntSliderView",
            "continuous_update": true,
            "description": "channel",
            "description_tooltip": null,
            "disabled": false,
            "layout": "IPY_MODEL_c0534c0e716141fc8dbef8e68a524245",
            "max": 3,
            "min": 0,
            "orientation": "horizontal",
            "readout": true,
            "readout_format": "d",
            "step": 1,
            "style": "IPY_MODEL_e20f7ccbdd8d47ddbbab9c47c2330d1e",
            "value": 1
          }
        },
        "50cea2d34fcf4a43b311e17a6a6e34f2": {
          "model_module": "@jupyter-widgets/output",
          "model_name": "OutputModel",
          "model_module_version": "1.0.0",
          "state": {
            "_dom_classes": [],
            "_model_module": "@jupyter-widgets/output",
            "_model_module_version": "1.0.0",
            "_model_name": "OutputModel",
            "_view_count": null,
            "_view_module": "@jupyter-widgets/output",
            "_view_module_version": "1.0.0",
            "_view_name": "OutputView",
            "layout": "IPY_MODEL_ac1880da541a44568b012534ae8a4423",
            "msg_id": "",
            "outputs": [
              {
                "output_type": "display_data",
                "data": {
                  "text/plain": "<Figure size 1000x500 with 1 Axes>",
                  "image/png": "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\n"
                },
                "metadata": {}
              },
              {
                "output_type": "display_data",
                "data": {
                  "text/plain": "82"
                },
                "metadata": {}
              }
            ]
          }
        },
        "eff3b8648284498fac7ea30f93dfe84e": {
          "model_module": "@jupyter-widgets/base",
          "model_name": "LayoutModel",
          "model_module_version": "1.2.0",
          "state": {
            "_model_module": "@jupyter-widgets/base",
            "_model_module_version": "1.2.0",
            "_model_name": "LayoutModel",
            "_view_count": null,
            "_view_module": "@jupyter-widgets/base",
            "_view_module_version": "1.2.0",
            "_view_name": "LayoutView",
            "align_content": null,
            "align_items": null,
            "align_self": null,
            "border": null,
            "bottom": null,
            "display": null,
            "flex": null,
            "flex_flow": null,
            "grid_area": null,
            "grid_auto_columns": null,
            "grid_auto_flow": null,
            "grid_auto_rows": null,
            "grid_column": null,
            "grid_gap": null,
            "grid_row": null,
            "grid_template_areas": null,
            "grid_template_columns": null,
            "grid_template_rows": null,
            "height": null,
            "justify_content": null,
            "justify_items": null,
            "left": null,
            "margin": null,
            "max_height": null,
            "max_width": null,
            "min_height": null,
            "min_width": null,
            "object_fit": null,
            "object_position": null,
            "order": null,
            "overflow": null,
            "overflow_x": null,
            "overflow_y": null,
            "padding": null,
            "right": null,
            "top": null,
            "visibility": null,
            "width": null
          }
        },
        "dc5e2ef1060e46dda8bd4dbff0bbeeec": {
          "model_module": "@jupyter-widgets/base",
          "model_name": "LayoutModel",
          "model_module_version": "1.2.0",
          "state": {
            "_model_module": "@jupyter-widgets/base",
            "_model_module_version": "1.2.0",
            "_model_name": "LayoutModel",
            "_view_count": null,
            "_view_module": "@jupyter-widgets/base",
            "_view_module_version": "1.2.0",
            "_view_name": "LayoutView",
            "align_content": null,
            "align_items": null,
            "align_self": null,
            "border": null,
            "bottom": null,
            "display": null,
            "flex": null,
            "flex_flow": null,
            "grid_area": null,
            "grid_auto_columns": null,
            "grid_auto_flow": null,
            "grid_auto_rows": null,
            "grid_column": null,
            "grid_gap": null,
            "grid_row": null,
            "grid_template_areas": null,
            "grid_template_columns": null,
            "grid_template_rows": null,
            "height": null,
            "justify_content": null,
            "justify_items": null,
            "left": null,
            "margin": null,
            "max_height": null,
            "max_width": null,
            "min_height": null,
            "min_width": null,
            "object_fit": null,
            "object_position": null,
            "order": null,
            "overflow": null,
            "overflow_x": null,
            "overflow_y": null,
            "padding": null,
            "right": null,
            "top": null,
            "visibility": null,
            "width": null
          }
        },
        "dd23d8456cee49309657a90accf38ddd": {
          "model_module": "@jupyter-widgets/controls",
          "model_name": "SliderStyleModel",
          "model_module_version": "1.5.0",
          "state": {
            "_model_module": "@jupyter-widgets/controls",
            "_model_module_version": "1.5.0",
            "_model_name": "SliderStyleModel",
            "_view_count": null,
            "_view_module": "@jupyter-widgets/base",
            "_view_module_version": "1.2.0",
            "_view_name": "StyleView",
            "description_width": "",
            "handle_color": null
          }
        },
        "b1ad70c56238470d883e88b06c9f8181": {
          "model_module": "@jupyter-widgets/base",
          "model_name": "LayoutModel",
          "model_module_version": "1.2.0",
          "state": {
            "_model_module": "@jupyter-widgets/base",
            "_model_module_version": "1.2.0",
            "_model_name": "LayoutModel",
            "_view_count": null,
            "_view_module": "@jupyter-widgets/base",
            "_view_module_version": "1.2.0",
            "_view_name": "LayoutView",
            "align_content": null,
            "align_items": null,
            "align_self": null,
            "border": null,
            "bottom": null,
            "display": null,
            "flex": null,
            "flex_flow": null,
            "grid_area": null,
            "grid_auto_columns": null,
            "grid_auto_flow": null,
            "grid_auto_rows": null,
            "grid_column": null,
            "grid_gap": null,
            "grid_row": null,
            "grid_template_areas": null,
            "grid_template_columns": null,
            "grid_template_rows": null,
            "height": null,
            "justify_content": null,
            "justify_items": null,
            "left": null,
            "margin": null,
            "max_height": null,
            "max_width": null,
            "min_height": null,
            "min_width": null,
            "object_fit": null,
            "object_position": null,
            "order": null,
            "overflow": null,
            "overflow_x": null,
            "overflow_y": null,
            "padding": null,
            "right": null,
            "top": null,
            "visibility": null,
            "width": null
          }
        },
        "8451d8eef1a9404382ce3fc5ff76f64a": {
          "model_module": "@jupyter-widgets/controls",
          "model_name": "DescriptionStyleModel",
          "model_module_version": "1.5.0",
          "state": {
            "_model_module": "@jupyter-widgets/controls",
            "_model_module_version": "1.5.0",
            "_model_name": "DescriptionStyleModel",
            "_view_count": null,
            "_view_module": "@jupyter-widgets/base",
            "_view_module_version": "1.2.0",
            "_view_name": "StyleView",
            "description_width": ""
          }
        },
        "c0534c0e716141fc8dbef8e68a524245": {
          "model_module": "@jupyter-widgets/base",
          "model_name": "LayoutModel",
          "model_module_version": "1.2.0",
          "state": {
            "_model_module": "@jupyter-widgets/base",
            "_model_module_version": "1.2.0",
            "_model_name": "LayoutModel",
            "_view_count": null,
            "_view_module": "@jupyter-widgets/base",
            "_view_module_version": "1.2.0",
            "_view_name": "LayoutView",
            "align_content": null,
            "align_items": null,
            "align_self": null,
            "border": null,
            "bottom": null,
            "display": null,
            "flex": null,
            "flex_flow": null,
            "grid_area": null,
            "grid_auto_columns": null,
            "grid_auto_flow": null,
            "grid_auto_rows": null,
            "grid_column": null,
            "grid_gap": null,
            "grid_row": null,
            "grid_template_areas": null,
            "grid_template_columns": null,
            "grid_template_rows": null,
            "height": null,
            "justify_content": null,
            "justify_items": null,
            "left": null,
            "margin": null,
            "max_height": null,
            "max_width": null,
            "min_height": null,
            "min_width": null,
            "object_fit": null,
            "object_position": null,
            "order": null,
            "overflow": null,
            "overflow_x": null,
            "overflow_y": null,
            "padding": null,
            "right": null,
            "top": null,
            "visibility": null,
            "width": null
          }
        },
        "e20f7ccbdd8d47ddbbab9c47c2330d1e": {
          "model_module": "@jupyter-widgets/controls",
          "model_name": "SliderStyleModel",
          "model_module_version": "1.5.0",
          "state": {
            "_model_module": "@jupyter-widgets/controls",
            "_model_module_version": "1.5.0",
            "_model_name": "SliderStyleModel",
            "_view_count": null,
            "_view_module": "@jupyter-widgets/base",
            "_view_module_version": "1.2.0",
            "_view_name": "StyleView",
            "description_width": "",
            "handle_color": null
          }
        },
        "ac1880da541a44568b012534ae8a4423": {
          "model_module": "@jupyter-widgets/base",
          "model_name": "LayoutModel",
          "model_module_version": "1.2.0",
          "state": {
            "_model_module": "@jupyter-widgets/base",
            "_model_module_version": "1.2.0",
            "_model_name": "LayoutModel",
            "_view_count": null,
            "_view_module": "@jupyter-widgets/base",
            "_view_module_version": "1.2.0",
            "_view_name": "LayoutView",
            "align_content": null,
            "align_items": null,
            "align_self": null,
            "border": null,
            "bottom": null,
            "display": null,
            "flex": null,
            "flex_flow": null,
            "grid_area": null,
            "grid_auto_columns": null,
            "grid_auto_flow": null,
            "grid_auto_rows": null,
            "grid_column": null,
            "grid_gap": null,
            "grid_row": null,
            "grid_template_areas": null,
            "grid_template_columns": null,
            "grid_template_rows": null,
            "height": null,
            "justify_content": null,
            "justify_items": null,
            "left": null,
            "margin": null,
            "max_height": null,
            "max_width": null,
            "min_height": null,
            "min_width": null,
            "object_fit": null,
            "object_position": null,
            "order": null,
            "overflow": null,
            "overflow_x": null,
            "overflow_y": null,
            "padding": null,
            "right": null,
            "top": null,
            "visibility": null,
            "width": null
          }
        },
        "bea4347824394aef8ef93ff88e22e4b7": {
          "model_module": "@jupyter-widgets/controls",
          "model_name": "VBoxModel",
          "model_module_version": "1.5.0",
          "state": {
            "_dom_classes": [
              "widget-interact"
            ],
            "_model_module": "@jupyter-widgets/controls",
            "_model_module_version": "1.5.0",
            "_model_name": "VBoxModel",
            "_view_count": null,
            "_view_module": "@jupyter-widgets/controls",
            "_view_module_version": "1.5.0",
            "_view_name": "VBoxView",
            "box_style": "",
            "children": [
              "IPY_MODEL_efc23b16e6894fdc9a9aacd00f00ccd2",
              "IPY_MODEL_2bbd24191b6c4c58a8c0aa2fea07ab9e",
              "IPY_MODEL_8c9d9e1e708e45e68ce54f5f15895d06"
            ],
            "layout": "IPY_MODEL_a6bfaffe17694335ab2655a8d63d272a"
          }
        },
        "efc23b16e6894fdc9a9aacd00f00ccd2": {
          "model_module": "@jupyter-widgets/controls",
          "model_name": "ToggleButtonsModel",
          "model_module_version": "1.5.0",
          "state": {
            "_dom_classes": [],
            "_model_module": "@jupyter-widgets/controls",
            "_model_module_version": "1.5.0",
            "_model_name": "ToggleButtonsModel",
            "_options_labels": [
              "Normal",
              "Edema",
              "Non-enhancing tumor",
              "Enhancing tumor"
            ],
            "_view_count": null,
            "_view_module": "@jupyter-widgets/controls",
            "_view_module_version": "1.5.0",
            "_view_name": "ToggleButtonsView",
            "button_style": "info",
            "description": "Select Class:",
            "description_tooltip": null,
            "disabled": false,
            "icons": [],
            "index": 0,
            "layout": "IPY_MODEL_e350bad410524ee29df8d7720068ca67",
            "style": "IPY_MODEL_6c0ca190a9ba458aa707d9fab1a3a312",
            "tooltips": []
          }
        },
        "2bbd24191b6c4c58a8c0aa2fea07ab9e": {
          "model_module": "@jupyter-widgets/controls",
          "model_name": "IntSliderModel",
          "model_module_version": "1.5.0",
          "state": {
            "_dom_classes": [],
            "_model_module": "@jupyter-widgets/controls",
            "_model_module_version": "1.5.0",
            "_model_name": "IntSliderModel",
            "_view_count": null,
            "_view_module": "@jupyter-widgets/controls",
            "_view_module_version": "1.5.0",
            "_view_name": "IntSliderView",
            "continuous_update": false,
            "description": "Select Layer",
            "description_tooltip": null,
            "disabled": false,
            "layout": "IPY_MODEL_54372271bf724077b635cc507ff9e890",
            "max": 154,
            "min": 0,
            "orientation": "horizontal",
            "readout": true,
            "readout_format": "d",
            "step": 1,
            "style": "IPY_MODEL_77a1e8bf1ef04f85973a05d4e00a982a",
            "value": 43
          }
        },
        "8c9d9e1e708e45e68ce54f5f15895d06": {
          "model_module": "@jupyter-widgets/output",
          "model_name": "OutputModel",
          "model_module_version": "1.0.0",
          "state": {
            "_dom_classes": [],
            "_model_module": "@jupyter-widgets/output",
            "_model_module_version": "1.0.0",
            "_model_name": "OutputModel",
            "_view_count": null,
            "_view_module": "@jupyter-widgets/output",
            "_view_module_version": "1.0.0",
            "_view_name": "OutputView",
            "layout": "IPY_MODEL_7dd0ccb6c34242749dffaa59a6444f03",
            "msg_id": "",
            "outputs": [
              {
                "output_type": "stream",
                "name": "stdout",
                "text": [
                  "Plotting 43 Layer Label: Normal\n"
                ]
              },
              {
                "output_type": "display_data",
                "data": {
                  "text/plain": "<Figure size 1000x500 with 1 Axes>",
                  "image/png": "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\n"
                },
                "metadata": {}
              }
            ]
          }
        },
        "a6bfaffe17694335ab2655a8d63d272a": {
          "model_module": "@jupyter-widgets/base",
          "model_name": "LayoutModel",
          "model_module_version": "1.2.0",
          "state": {
            "_model_module": "@jupyter-widgets/base",
            "_model_module_version": "1.2.0",
            "_model_name": "LayoutModel",
            "_view_count": null,
            "_view_module": "@jupyter-widgets/base",
            "_view_module_version": "1.2.0",
            "_view_name": "LayoutView",
            "align_content": null,
            "align_items": null,
            "align_self": null,
            "border": null,
            "bottom": null,
            "display": null,
            "flex": null,
            "flex_flow": null,
            "grid_area": null,
            "grid_auto_columns": null,
            "grid_auto_flow": null,
            "grid_auto_rows": null,
            "grid_column": null,
            "grid_gap": null,
            "grid_row": null,
            "grid_template_areas": null,
            "grid_template_columns": null,
            "grid_template_rows": null,
            "height": null,
            "justify_content": null,
            "justify_items": null,
            "left": null,
            "margin": null,
            "max_height": null,
            "max_width": null,
            "min_height": null,
            "min_width": null,
            "object_fit": null,
            "object_position": null,
            "order": null,
            "overflow": null,
            "overflow_x": null,
            "overflow_y": null,
            "padding": null,
            "right": null,
            "top": null,
            "visibility": null,
            "width": null
          }
        },
        "e350bad410524ee29df8d7720068ca67": {
          "model_module": "@jupyter-widgets/base",
          "model_name": "LayoutModel",
          "model_module_version": "1.2.0",
          "state": {
            "_model_module": "@jupyter-widgets/base",
            "_model_module_version": "1.2.0",
            "_model_name": "LayoutModel",
            "_view_count": null,
            "_view_module": "@jupyter-widgets/base",
            "_view_module_version": "1.2.0",
            "_view_name": "LayoutView",
            "align_content": null,
            "align_items": null,
            "align_self": null,
            "border": null,
            "bottom": null,
            "display": null,
            "flex": null,
            "flex_flow": null,
            "grid_area": null,
            "grid_auto_columns": null,
            "grid_auto_flow": null,
            "grid_auto_rows": null,
            "grid_column": null,
            "grid_gap": null,
            "grid_row": null,
            "grid_template_areas": null,
            "grid_template_columns": null,
            "grid_template_rows": null,
            "height": null,
            "justify_content": null,
            "justify_items": null,
            "left": null,
            "margin": null,
            "max_height": null,
            "max_width": null,
            "min_height": null,
            "min_width": null,
            "object_fit": null,
            "object_position": null,
            "order": null,
            "overflow": null,
            "overflow_x": null,
            "overflow_y": null,
            "padding": null,
            "right": null,
            "top": null,
            "visibility": null,
            "width": null
          }
        },
        "6c0ca190a9ba458aa707d9fab1a3a312": {
          "model_module": "@jupyter-widgets/controls",
          "model_name": "ToggleButtonsStyleModel",
          "model_module_version": "1.5.0",
          "state": {
            "_model_module": "@jupyter-widgets/controls",
            "_model_module_version": "1.5.0",
            "_model_name": "ToggleButtonsStyleModel",
            "_view_count": null,
            "_view_module": "@jupyter-widgets/base",
            "_view_module_version": "1.2.0",
            "_view_name": "StyleView",
            "button_width": "",
            "description_width": "",
            "font_weight": ""
          }
        },
        "54372271bf724077b635cc507ff9e890": {
          "model_module": "@jupyter-widgets/base",
          "model_name": "LayoutModel",
          "model_module_version": "1.2.0",
          "state": {
            "_model_module": "@jupyter-widgets/base",
            "_model_module_version": "1.2.0",
            "_model_name": "LayoutModel",
            "_view_count": null,
            "_view_module": "@jupyter-widgets/base",
            "_view_module_version": "1.2.0",
            "_view_name": "LayoutView",
            "align_content": null,
            "align_items": null,
            "align_self": null,
            "border": null,
            "bottom": null,
            "display": null,
            "flex": null,
            "flex_flow": null,
            "grid_area": null,
            "grid_auto_columns": null,
            "grid_auto_flow": null,
            "grid_auto_rows": null,
            "grid_column": null,
            "grid_gap": null,
            "grid_row": null,
            "grid_template_areas": null,
            "grid_template_columns": null,
            "grid_template_rows": null,
            "height": null,
            "justify_content": null,
            "justify_items": null,
            "left": null,
            "margin": null,
            "max_height": null,
            "max_width": null,
            "min_height": null,
            "min_width": null,
            "object_fit": null,
            "object_position": null,
            "order": null,
            "overflow": null,
            "overflow_x": null,
            "overflow_y": null,
            "padding": null,
            "right": null,
            "top": null,
            "visibility": null,
            "width": null
          }
        },
        "77a1e8bf1ef04f85973a05d4e00a982a": {
          "model_module": "@jupyter-widgets/controls",
          "model_name": "SliderStyleModel",
          "model_module_version": "1.5.0",
          "state": {
            "_model_module": "@jupyter-widgets/controls",
            "_model_module_version": "1.5.0",
            "_model_name": "SliderStyleModel",
            "_view_count": null,
            "_view_module": "@jupyter-widgets/base",
            "_view_module_version": "1.2.0",
            "_view_name": "StyleView",
            "description_width": "",
            "handle_color": null
          }
        },
        "7dd0ccb6c34242749dffaa59a6444f03": {
          "model_module": "@jupyter-widgets/base",
          "model_name": "LayoutModel",
          "model_module_version": "1.2.0",
          "state": {
            "_model_module": "@jupyter-widgets/base",
            "_model_module_version": "1.2.0",
            "_model_name": "LayoutModel",
            "_view_count": null,
            "_view_module": "@jupyter-widgets/base",
            "_view_module_version": "1.2.0",
            "_view_name": "LayoutView",
            "align_content": null,
            "align_items": null,
            "align_self": null,
            "border": null,
            "bottom": null,
            "display": null,
            "flex": null,
            "flex_flow": null,
            "grid_area": null,
            "grid_auto_columns": null,
            "grid_auto_flow": null,
            "grid_auto_rows": null,
            "grid_column": null,
            "grid_gap": null,
            "grid_row": null,
            "grid_template_areas": null,
            "grid_template_columns": null,
            "grid_template_rows": null,
            "height": null,
            "justify_content": null,
            "justify_items": null,
            "left": null,
            "margin": null,
            "max_height": null,
            "max_width": null,
            "min_height": null,
            "min_width": null,
            "object_fit": null,
            "object_position": null,
            "order": null,
            "overflow": null,
            "overflow_x": null,
            "overflow_y": null,
            "padding": null,
            "right": null,
            "top": null,
            "visibility": null,
            "width": null
          }
        }
      }
    }
  },
  "cells": [
    {
      "cell_type": "markdown",
      "metadata": {
        "id": "kaZTu5oVlcF3"
      },
      "source": [
        "# AI4M Course 1 week 3 lecture notebook"
      ]
    },
    {
      "cell_type": "markdown",
      "metadata": {
        "id": "rqjlIgVRlcF7"
      },
      "source": [
        "<a name=\"data\"></a>\n",
        "# Explore the data\n",
        "\n",
        "<img src=\"https://raw.githubusercontent.com/hardik0/AI-for-Medicine-Specialization/master/AI-for-Medical-Diagnosis/Week-3/mri-slice.png\" alt=\"U-net Image\" width=\"300\"/>\n",
        "\n",
        "In this week's assignment, you'll be working with 3D MRI brain scans from the public [Medical Segmentation Decathalon](https://decathlon-10.grand-challenge.org/) challenge project. This is an incredibly rich dataset that provides you with labels associated with each point (voxel) inside a 3D representation of a patient's brain. Ultimately, in this week's assignment, you will train a neural network to make three-dimensional spatial segmentation predictions for common brain disorders.\n",
        "\n",
        "In this notebook, you're all set up to explore this exciting dataset. Run the code below and tweak it to explore further!"
      ]
    },
    {
      "cell_type": "code",
      "metadata": {
        "id": "t4sDZQxUm9WT",
        "outputId": "0c1db9e2-9562-4e79-a2e0-598ac6260982",
        "colab": {
          "base_uri": "https://localhost:8080/"
        }
      },
      "source": [
        "!git clone https://github.com/hardik0/AI-for-Medicine-Specialization\n",
        "%cd AI-for-Medicine-Specialization/AI-for-Medical-Diagnosis/"
      ],
      "execution_count": 1,
      "outputs": [
        {
          "output_type": "stream",
          "name": "stdout",
          "text": [
            "fatal: destination path 'AI-for-Medicine-Specialization' already exists and is not an empty directory.\n",
            "/content/AI-for-Medicine-Specialization/AI-for-Medical-Diagnosis\n"
          ]
        }
      ]
    },
    {
      "cell_type": "code",
      "metadata": {
        "id": "qHnNw80PnzAg"
      },
      "source": [
        "!pip install itk itkwidgets ipywidgets"
      ],
      "execution_count": null,
      "outputs": []
    },
    {
      "cell_type": "markdown",
      "metadata": {
        "id": "4NMO3FQPlcF9"
      },
      "source": [
        "### Import packages\n",
        "For this lab, you'll import some of the packages you've seen before (`numpy`, `matplotlib` and `seaborn`) as well as some new ones for reading (`nibabel`) and visualizing (`itk`, `itkwidgets`, `ipywidgets`) the data. Run the next cell to import these packages."
      ]
    },
    {
      "cell_type": "code",
      "metadata": {
        "id": "CwInbbMElcGA"
      },
      "source": [
        "# Import all the necessary packages\n",
        "import numpy as np\n",
        "import nibabel as nib\n",
        "import itk\n",
        "import itkwidgets\n",
        "from ipywidgets import interact, interactive, IntSlider, ToggleButtons\n",
        "import matplotlib.pyplot as plt\n",
        "%matplotlib inline\n",
        "import seaborn as sns\n",
        "sns.set_style('darkgrid')"
      ],
      "execution_count": 2,
      "outputs": []
    },
    {
      "cell_type": "markdown",
      "metadata": {
        "id": "H90jhoj9lcGO"
      },
      "source": [
        "### Loading Images of the brain\n",
        "Run the next cell to grab a single 3D MRI brain scan"
      ]
    },
    {
      "cell_type": "code",
      "metadata": {
        "id": "IrdHZwdglcGR",
        "outputId": "84a473c5-9f92-41b8-8723-cd6fdc4c8183",
        "colab": {
          "base_uri": "https://localhost:8080/"
        }
      },
      "source": [
        "# Define the image path and load the data\n",
        "image_path = \"BraTS-Data/imagesTr/BRATS_001.nii.gz\"\n",
        "image_obj = nib.load(image_path)\n",
        "print(f'Type of the image {type(image_obj)}')"
      ],
      "execution_count": 3,
      "outputs": [
        {
          "output_type": "stream",
          "name": "stdout",
          "text": [
            "Type of the image <class 'nibabel.nifti1.Nifti1Image'>\n"
          ]
        }
      ]
    },
    {
      "cell_type": "markdown",
      "metadata": {
        "id": "IpbUhJGjlcGf"
      },
      "source": [
        "### Extract the data as a numpy array\n",
        "Run the next cell to extract the data using the `get_fdata()` method of the image object"
      ]
    },
    {
      "cell_type": "code",
      "metadata": {
        "id": "BHFDLDRHlcGh",
        "outputId": "fede44a9-fa39-452e-f475-559d29ead731",
        "colab": {
          "base_uri": "https://localhost:8080/"
        }
      },
      "source": [
        "# Extract data as numpy ndarray\n",
        "image_data = image_obj.get_fdata()\n",
        "type(image_data)"
      ],
      "execution_count": 4,
      "outputs": [
        {
          "output_type": "execute_result",
          "data": {
            "text/plain": [
              "numpy.ndarray"
            ]
          },
          "metadata": {},
          "execution_count": 4
        }
      ]
    },
    {
      "cell_type": "code",
      "metadata": {
        "id": "hX5bfNinlcGs",
        "outputId": "fd7cb476-44f2-43e8-9116-dd118f9d52d0",
        "colab": {
          "base_uri": "https://localhost:8080/"
        }
      },
      "source": [
        "# Get the image shape and print it out\n",
        "height, width, depth, channels = image_data.shape\n",
        "print(f\"The image object has the following dimensions: height: {height}, width:{width}, depth:{depth}, channels:{channels}\")"
      ],
      "execution_count": 5,
      "outputs": [
        {
          "output_type": "stream",
          "name": "stdout",
          "text": [
            "The image object has the following dimensions: height: 240, width:240, depth:155, channels:4\n"
          ]
        }
      ]
    },
    {
      "cell_type": "markdown",
      "metadata": {
        "id": "c1bzQw1qlcG8"
      },
      "source": [
        "As you can see these \"image objects\" are actually 4 dimensional! With the exploratory steps below you'll get a better sense of exactly what each of these dimensions represents.\n",
        "\n",
        "### Visualize the data\n",
        "The \"depth\" listed above indicates that there are 155 layers (slices through the brain) in every image object. To visualize a single layer, run the cell below. Note that if the layer is one of the first or the last (`i` near 0 or 154), you won't find much information and the screen will be dark. Run this cell multiple times to look at different layers.\n",
        "\n",
        "The code is set up to grab a random layer but you can select a specific layer by choosing a value for `i` from 0 to 154. You can also change which channel you're looking at by changing the `channel` variable.\n",
        "\n",
        "Keep in mind that you could just as easily look at slices of this image object along the height or width dimensions. If you wish to do so, just shift `i` to a different dimension in the `plt.imshow()` command below. Which slice direction looks the most interesting to you?"
      ]
    },
    {
      "cell_type": "code",
      "metadata": {
        "id": "h5d8HuPdlcG-",
        "outputId": "7e177eef-8507-45e2-b538-fbf06cd88b76",
        "colab": {
          "base_uri": "https://localhost:8080/",
          "height": 423
        }
      },
      "source": [
        "# Select random layer number\n",
        "maxval = 154\n",
        "i = np.random.randint(0, maxval)\n",
        "# Define a channel to look at\n",
        "channel = 0\n",
        "print(f\"Plotting Layer {i} Channel {channel} of Image\")\n",
        "plt.imshow(image_data[:, :, i, channel], cmap='gray')\n",
        "plt.axis('off');"
      ],
      "execution_count": 6,
      "outputs": [
        {
          "output_type": "stream",
          "name": "stdout",
          "text": [
            "Plotting Layer 87 Channel 0 of Image\n"
          ]
        },
        {
          "output_type": "display_data",
          "data": {
            "text/plain": [
              "<Figure size 640x480 with 1 Axes>"
            ],
            "image/png": "[encoded data removed]"
          },
          "metadata": {}
        }
      ]
    },
    {
      "cell_type": "markdown",
      "metadata": {
        "id": "LX8Jl1_1lcHR"
      },
      "source": [
        "### Interactive exploration\n",
        "Another way to visualize this dataset is by using IPython Widgets to allow for an interactive exploration of the data.\n",
        "\n",
        "Run the next cell to explore across different layers of the data. Move the slider to explore different layers. Change the `channel` value to explore different channels. See if you can tell which layer corresponds to the top of the brain and which corresponds to the bottom!\n",
        "\n",
        "If you're feeling ambitious, try modifying the code below to slice along a different axis through the image object and look at other channels to see what you can discover!"
      ]
    },
    {
      "cell_type": "code",
      "source": [
        "def explore_3dimage(layer, axis=2, channel=2):\n",
        "    \"\"\"\n",
        "    Visualize a 3D MRI image by slicing along a specified axis and channel.\n",
        "\n",
        "    Args:\n",
        "        layer (int): The slice index along the specified axis.\n",
        "        axis (int): The axis to slice along (0 for x, 1 for y, 2 for z).\n",
        "        channel (int): The channel/modality to display (for 4D data).\n",
        "    \"\"\"\n",
        "    plt.figure(figsize=(10, 5))\n",
        "\n",
        "    # Ensure image_data is defined and has the expected shape\n",
        "    if not isinstance(image_data, np.ndarray) or len(image_data.shape) != 4:\n",
        "        raise ValueError(\"image_data must be a 4D NumPy array (height, width, depth, channels)\")\n",
        "\n",
        "    height, width, depth, num_channels = image_data.shape\n",
        "\n",
        "    # Validate inputs\n",
        "    if axis not in [0, 1, 2]:\n",
        "        raise ValueError(\"Axis must be 0 (x), 1 (y), or 2 (z)\")\n",
        "    if channel >= num_channels:\n",
        "        raise ValueError(f\"Channel must be between 0 and {num_channels - 1}\")\n",
        "\n",
        "    # Select slice based on axis\n",
        "    if axis == 0:  # Slice along x-axis (height)\n",
        "        slice_data = image_data[layer, :, :, channel]\n",
        "        title = f'X-axis Slice {layer} (Channel {channel})'\n",
        "    elif axis == 1:  # Slice along y-axis (width)\n",
        "        slice_data = image_data[:, layer, :, channel]\n",
        "        title = f'Y-axis Slice {layer} (Channel {channel})'\n",
        "    else:  # Slice along z-axis (depth)\n",
        "        slice_data = image_data[:, :, layer, channel]\n",
        "        title = f'Z-axis Slice {layer} (Channel {channel})'\n",
        "\n",
        "    # Display the slice\n",
        "    plt.imshow(slice_data, cmap='gray')\n",
        "    plt.title(title, fontsize=20)\n",
        "    plt.axis('off')\n",
        "    plt.show()\n",
        "\n",
        "    return layer"
      ],
      "metadata": {
        "id": "kFBD_qLd1mJ6"
      },
      "execution_count": 14,
      "outputs": []
    },
    {
      "cell_type": "code",
      "source": [
        "def interactive_3dimage_explorer(image_data):\n",
        "    \"\"\"\n",
        "    Create an interactive widget to explore 3D image data along different axes and channels.\n",
        "\n",
        "    Args:\n",
        "        image_data (np.ndarray): 4D array of shape (height, width, depth, channels)\n",
        "    \"\"\"\n",
        "    height, width, depth, num_channels = image_data.shape\n",
        "\n",
        "    interact(\n",
        "        explore_3dimage,\n",
        "        layer=(0, [height, width, depth][2] - 1),  # Default to z-axis max\n",
        "        axis={'X (height)': 0, 'Y (width)': 1, 'Z (depth)': 2},\n",
        "        channel=(0, num_channels - 1)\n",
        "    )"
      ],
      "metadata": {
        "id": "T4WxHeY51sMI"
      },
      "execution_count": 15,
      "outputs": []
    },
    {
      "cell_type": "code",
      "source": [
        "interactive_3dimage_explorer(image_data)"
      ],
      "metadata": {
        "id": "RDff4KAe1tKw",
        "outputId": "183b3162-0cfe-45bd-b696-ac6efd3f4a49",
        "colab": {
          "base_uri": "https://localhost:8080/",
          "height": 565,
          "referenced_widgets": [
            "d02b6bba1a1f4a71b3507d598f3d136c",
            "32499999e4894dbf97e9afdaf67e83a7",
            "1f8af9a50da44e3c95951cd3403513ab",
            "653c5aaf60b84494ac866658ab1c2ee8",
            "50cea2d34fcf4a43b311e17a6a6e34f2",
            "eff3b8648284498fac7ea30f93dfe84e",
            "dc5e2ef1060e46dda8bd4dbff0bbeeec",
            "dd23d8456cee49309657a90accf38ddd",
            "b1ad70c56238470d883e88b06c9f8181",
            "8451d8eef1a9404382ce3fc5ff76f64a",
            "c0534c0e716141fc8dbef8e68a524245",
            "e20f7ccbdd8d47ddbbab9c47c2330d1e",
            "ac1880da541a44568b012534ae8a4423"
          ]
        }
      },
      "execution_count": 16,
      "outputs": [
        {
          "output_type": "display_data",
          "data": {
            "text/plain": [
              "interactive(children=(IntSlider(value=77, description='layer', max=154), Dropdown(description='axis', index=2,…"
            ],
            "application/vnd.jupyter.widget-view+json": {
              "version_major": 2,
              "version_minor": 0,
              "model_id": "d02b6bba1a1f4a71b3507d598f3d136c"
            }
          },
          "metadata": {}
        }
      ]
    },
    {
      "cell_type": "markdown",
      "metadata": {
        "id": "XlsfgFAAlcH4"
      },
      "source": [
        "### Explore the data labels\n",
        "In this section, you'll read in a new dataset containing the labels for the MRI scan you loaded above.\n",
        "\n",
        "Run the cell below to load the labels dataset for the image object you inspected above."
      ]
    },
    {
      "cell_type": "code",
      "metadata": {
        "id": "8LEK4G6llcH6",
        "outputId": "42d631a7-3cdb-48ab-fc00-4d3f0cc0368b",
        "colab": {
          "base_uri": "https://localhost:8080/",
          "height": 121
        }
      },
      "source": [
        "# Define the data path and load the data\n",
        "label_path = \"./BraTS-Data/labelsTr/BRATS_001.nii.gz\"\n",
        "label_obj = nib.load(label_path)\n",
        "type(label_obj)"
      ],
      "execution_count": 8,
      "outputs": [
        {
          "output_type": "execute_result",
          "data": {
            "text/plain": [
              "nibabel.nifti1.Nifti1Image"
            ],
            "text/html": [
              "<div style=\"max-width:800px; border: 1px solid var(--colab-border-color);\"><style>\n",
              "      pre.function-repr-contents {\n",
              "        overflow-x: auto;\n",
              "        padding: 8px 12px;\n",
              "        max-height: 500px;\n",
              "      }\n",
              "\n",
              "      pre.function-repr-contents.function-repr-contents-collapsed {\n",
              "        cursor: pointer;\n",
              "        max-height: 100px;\n",
              "      }\n",
              "    </style>\n",
              "    <pre style=\"white-space: initial; background:\n",
              "         var(--colab-secondary-surface-color); padding: 8px 12px;\n",
              "         border-bottom: 1px solid var(--colab-border-color);\"><b>nibabel.nifti1.Nifti1Image</b><br/>def __init__(dataobj, affine, header=None, extra=None, file_map=None, dtype=None)</pre><pre class=\"function-repr-contents function-repr-contents-collapsed\" style=\"\"><a class=\"filepath\" style=\"display:none\" href=\"#\">/usr/local/lib/python3.11/dist-packages/nibabel/nifti1.py</a>Class for single file NIfTI1 format image</pre>\n",
              "      <script>\n",
              "      if (google.colab.kernel.accessAllowed && google.colab.files && google.colab.files.view) {\n",
              "        for (const element of document.querySelectorAll('.filepath')) {\n",
              "          element.style.display = 'block'\n",
              "          element.onclick = (event) => {\n",
              "            event.preventDefault();\n",
              "            event.stopPropagation();\n",
              "            google.colab.files.view(element.textContent, 2413);\n",
              "          };\n",
              "        }\n",
              "      }\n",
              "      for (const element of document.querySelectorAll('.function-repr-contents')) {\n",
              "        element.onclick = (event) => {\n",
              "          event.preventDefault();\n",
              "          event.stopPropagation();\n",
              "          element.classList.toggle('function-repr-contents-collapsed');\n",
              "        };\n",
              "      }\n",
              "      </script>\n",
              "      </div>"
            ]
          },
          "metadata": {},
          "execution_count": 8
        }
      ]
    },
    {
      "cell_type": "markdown",
      "metadata": {
        "id": "i75fPF1RlcIE"
      },
      "source": [
        "### Extract the data as a numpy array\n",
        "Run the next cell to extract the data labels using the `get_fdata()` method of the image object"
      ]
    },
    {
      "cell_type": "code",
      "metadata": {
        "id": "7x8UKlBilcIG",
        "outputId": "92cd0adf-052a-4011-b811-e2090117bdea",
        "colab": {
          "base_uri": "https://localhost:8080/"
        }
      },
      "source": [
        "# Extract data labels\n",
        "label_array = label_obj.get_fdata()\n",
        "type(label_array)"
      ],
      "execution_count": 9,
      "outputs": [
        {
          "output_type": "execute_result",
          "data": {
            "text/plain": [
              "numpy.ndarray"
            ]
          },
          "metadata": {},
          "execution_count": 9
        }
      ]
    },
    {
      "cell_type": "code",
      "metadata": {
        "id": "fD5I9BD7lcIQ",
        "outputId": "de74471c-2e68-4531-e792-b1d790747e4b",
        "colab": {
          "base_uri": "https://localhost:8080/"
        }
      },
      "source": [
        "# Extract and print out the shape of the labels data\n",
        "height, width, depth = label_array.shape\n",
        "print(f\"Dimensions of labels data array height: {height}, width: {width}, depth: {depth}\")\n",
        "print(f'With the unique values: {np.unique(label_array)}')\n",
        "print(\"\"\"Corresponding to the following label categories:\n",
        "0: for normal\n",
        "1: for edema\n",
        "2: for non-enhancing tumor\n",
        "3: for enhancing tumor\"\"\")\n"
      ],
      "execution_count": 10,
      "outputs": [
        {
          "output_type": "stream",
          "name": "stdout",
          "text": [
            "Dimensions of labels data array height: 240, width: 240, depth: 155\n",
            "With the unique values: [0. 1. 2. 3.]\n",
            "Corresponding to the following label categories: \n",
            "0: for normal \n",
            "1: for edema\n",
            "2: for non-enhancing tumor \n",
            "3: for enhancing tumor\n"
          ]
        }
      ]
    },
    {
      "cell_type": "markdown",
      "metadata": {
        "id": "GfDbTzWqlcIZ"
      },
      "source": [
        "### Visualize the labels for a specific layer\n",
        "Run the next cell to visualize a single layer of the labeled data. The code below is set up to show a single layer and you can set `i` to any value from 0 to 154 to look at a different layer.\n",
        "\n",
        "Note that if you choose a layer near 0 or 154 there might not be much to look at in the images."
      ]
    },
    {
      "cell_type": "code",
      "metadata": {
        "id": "L6n3cCrdlcIb",
        "outputId": "c79dd193-450c-4ce6-f232-d150aa890e41",
        "colab": {
          "base_uri": "https://localhost:8080/",
          "height": 410
        }
      },
      "source": [
        "# Define a single layer for plotting\n",
        "layer = 70\n",
        "# Define a dictionary of class labels\n",
        "classes_dict = {\n",
        "    'Normal': 0.,\n",
        "    'Edema': 1.,\n",
        "    'Non-enhancing tumor': 2.,\n",
        "    'Enhancing tumor': 3.\n",
        "}\n",
        "# Set up for plotting\n",
        "fig, ax = plt.subplots(nrows=1, ncols=4, figsize=(50, 30))\n",
        "for i in range(4):\n",
        "    img_label_str = list(classes_dict.keys())[i]\n",
        "    img = label_array[:,:,layer]\n",
        "    mask = np.where(img == classes_dict[img_label_str], 255, 0)\n",
        "    ax[i].imshow(mask)\n",
        "    ax[i].set_title(f\"Layer {layer} for {img_label_str}\", fontsize=45)\n",
        "    ax[i].axis('off')\n",
        "plt.tight_layout()"
      ],
      "execution_count": 11,
      "outputs": [
        {
          "output_type": "display_data",
          "data": {
            "text/plain": [
              "<Figure size 5000x3000 with 4 Axes>"
            ],
            "image/png": "[encoded data removed]"
          },
          "metadata": {}
        }
      ]
    },
    {
      "cell_type": "markdown",
      "metadata": {
        "id": "KOot6HhwlcIt"
      },
      "source": [
        "### Interactive visualization across layers\n",
        "As another way of looking at the data, run the code below to create a visualization where you can choose the class you want to look at by clicking a button to choose a particular label and scrolling across layers using the slider!"
      ]
    },
    {
      "cell_type": "code",
      "metadata": {
        "id": "qYcEYhwNlcIw",
        "outputId": "175fb9e8-bc89-4aaf-b2b9-9fc38cd10717",
        "colab": {
          "base_uri": "https://localhost:8080/",
          "height": 504,
          "referenced_widgets": [
            "bea4347824394aef8ef93ff88e22e4b7",
            "efc23b16e6894fdc9a9aacd00f00ccd2",
            "2bbd24191b6c4c58a8c0aa2fea07ab9e",
            "8c9d9e1e708e45e68ce54f5f15895d06",
            "a6bfaffe17694335ab2655a8d63d272a",
            "e350bad410524ee29df8d7720068ca67",
            "6c0ca190a9ba458aa707d9fab1a3a312",
            "54372271bf724077b635cc507ff9e890",
            "77a1e8bf1ef04f85973a05d4e00a982a",
            "7dd0ccb6c34242749dffaa59a6444f03"
          ]
        }
      },
      "source": [
        "# Create button values\n",
        "select_class = ToggleButtons(\n",
        "    options=['Normal','Edema', 'Non-enhancing tumor', 'Enhancing tumor'],\n",
        "    description='Select Class:',\n",
        "    disabled=False,\n",
        "    button_style='info',\n",
        "\n",
        ")\n",
        "# Create layer slider\n",
        "select_layer = IntSlider(min=0, max=154, description='Select Layer', continuous_update=False)\n",
        "\n",
        "\n",
        "# Define a function for plotting images\n",
        "def plot_image(seg_class, layer):\n",
        "    print(f\"Plotting {layer} Layer Label: {seg_class}\")\n",
        "    img_label = classes_dict[seg_class]\n",
        "    mask = np.where(label_array[:,:,layer] == img_label, 255, 0)\n",
        "    plt.figure(figsize=(10,5))\n",
        "    plt.imshow(mask, cmap='gray')\n",
        "    plt.axis('off');\n",
        "\n",
        "# Use the interactive() tool to create the visualization\n",
        "interactive(plot_image, seg_class=select_class, layer=select_layer)"
      ],
      "execution_count": 37,
      "outputs": [
        {
          "output_type": "display_data",
          "data": {
            "text/plain": [
              "interactive(children=(ToggleButtons(button_style='info', description='Select Class:', options=('Normal', 'Edem…"
            ],
            "application/vnd.jupyter.widget-view+json": {
              "version_major": 2,
              "version_minor": 0,
              "model_id": "bea4347824394aef8ef93ff88e22e4b7"
            }
          },
          "metadata": {}
        }
      ]
    },
    {
      "cell_type": "markdown",
      "metadata": {
        "id": "MUpjDG1BlcI5"
      },
      "source": [
        "#### And there you have it! We hope this lab has helped you get a better sense of the data you'll be working with in this week's assignment."
      ]
    }
  ]
}